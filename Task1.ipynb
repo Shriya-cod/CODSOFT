{
  "nbformat": 4,
  "nbformat_minor": 0,
  "metadata": {
    "colab": {
      "provenance": [],
      "authorship_tag": "ABX9TyP7GbfMKz3hlN6zm2FwiJin",
      "include_colab_link": true
    },
    "kernelspec": {
      "name": "python3",
      "display_name": "Python 3"
    },
    "language_info": {
      "name": "python"
    }
  },
  "cells": [
    {
      "cell_type": "markdown",
      "metadata": {
        "id": "view-in-github",
        "colab_type": "text"
      },
      "source": [
        "<a href=\"https://colab.research.google.com/github/Shriya-cod/CODSOFT/blob/main/Task1.ipynb\" target=\"_parent\"><img src=\"https://colab.research.google.com/assets/colab-badge.svg\" alt=\"Open In Colab\"/></a>"
      ]
    },
    {
      "cell_type": "code",
      "execution_count": 2,
      "metadata": {
        "colab": {
          "base_uri": "https://localhost:8080/"
        },
        "id": "_rpae-y54CrZ",
        "outputId": "b359db7a-7a7b-4768-fe1c-98bf3e99be87"
      },
      "outputs": [
        {
          "output_type": "stream",
          "name": "stdout",
          "text": [
            "Enter any number:5\n",
            "    r \n",
            "  r   \n",
            "r     \n"
          ]
        }
      ],
      "source": [
        "r = int(input(\"Enter any number:\"))\n",
        "n = 3\n",
        "for i in range(n):\n",
        "  for j in range(n):\n",
        "    if(i + j == n - 1):\n",
        "      print('r', end = \" \")\n",
        "    else:\n",
        "      print(\" \", end =\" \")\n",
        "  print()"
      ]
    }
  ]
}